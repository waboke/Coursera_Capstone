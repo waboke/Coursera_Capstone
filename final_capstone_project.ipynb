{
 "cells": [
  {
   "cell_type": "markdown",
   "metadata": {},
   "source": [
    "<h3>Capstone Project - The Battle of Neighborhoods</h3>"
   ]
  },
  {
   "cell_type": "markdown",
   "metadata": {},
   "source": [
    "### Business Problem\n",
    "<p>With the out break of covid 19 around the world, it would be neccessary for, visitors and tourist to know all medical facilitiest in toronto. This will help them to quickly access and get medical assistance when the need arise.</p>\n",
    "<p>This will form the basis of my capstone project Battale of Neighborhood to explore the distributions of medical facilities in toronto canada.</p>"
   ]
  },
  {
   "cell_type": "markdown",
   "metadata": {},
   "source": [
    "### Data Description"
   ]
  },
  {
   "cell_type": "markdown",
   "metadata": {},
   "source": [
    "Based on the Business problem :"
   ]
  },
  {
   "cell_type": "markdown",
   "metadata": {},
   "source": [
    "1. Our data sources will be needed to extract/generate the required information:, https://en.wikipedia.org/wiki/List_of_hospitals_in_Toronto\n",
    "2. Data scrapping will be done using Beautifulsoup python api\n",
    "3.  the cordinates  will be obtained using Foursquare API"
   ]
  },
  {
   "cell_type": "code",
   "execution_count": null,
   "metadata": {},
   "outputs": [],
   "source": []
  }
 ],
 "metadata": {
  "kernelspec": {
   "display_name": "Python 3",
   "language": "python",
   "name": "python3"
  },
  "language_info": {
   "codemirror_mode": {
    "name": "ipython",
    "version": 3
   },
   "file_extension": ".py",
   "mimetype": "text/x-python",
   "name": "python",
   "nbconvert_exporter": "python",
   "pygments_lexer": "ipython3",
   "version": "3.8.5"
  }
 },
 "nbformat": 4,
 "nbformat_minor": 4
}
